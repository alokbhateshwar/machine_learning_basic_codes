{
 "cells": [
  {
   "cell_type": "code",
   "execution_count": 1,
   "id": "e3f11c6f",
   "metadata": {},
   "outputs": [],
   "source": [
    "import pandas as pd\n",
    "import numpy as np "
   ]
  },
  {
   "cell_type": "code",
   "execution_count": 2,
   "id": "902fac9f",
   "metadata": {},
   "outputs": [],
   "source": [
    "df = pd.read_csv('tennis.csv')"
   ]
  },
  {
   "cell_type": "code",
   "execution_count": 3,
   "id": "4cc08967",
   "metadata": {},
   "outputs": [
    {
     "data": {
      "text/html": [
       "<div>\n",
       "<style scoped>\n",
       "    .dataframe tbody tr th:only-of-type {\n",
       "        vertical-align: middle;\n",
       "    }\n",
       "\n",
       "    .dataframe tbody tr th {\n",
       "        vertical-align: top;\n",
       "    }\n",
       "\n",
       "    .dataframe thead th {\n",
       "        text-align: right;\n",
       "    }\n",
       "</style>\n",
       "<table border=\"1\" class=\"dataframe\">\n",
       "  <thead>\n",
       "    <tr style=\"text-align: right;\">\n",
       "      <th></th>\n",
       "      <th>outlook</th>\n",
       "      <th>temp</th>\n",
       "      <th>humidity</th>\n",
       "      <th>windy</th>\n",
       "      <th>play</th>\n",
       "    </tr>\n",
       "  </thead>\n",
       "  <tbody>\n",
       "    <tr>\n",
       "      <th>0</th>\n",
       "      <td>sunny</td>\n",
       "      <td>hot</td>\n",
       "      <td>high</td>\n",
       "      <td>False</td>\n",
       "      <td>no</td>\n",
       "    </tr>\n",
       "    <tr>\n",
       "      <th>1</th>\n",
       "      <td>sunny</td>\n",
       "      <td>hot</td>\n",
       "      <td>high</td>\n",
       "      <td>True</td>\n",
       "      <td>no</td>\n",
       "    </tr>\n",
       "    <tr>\n",
       "      <th>2</th>\n",
       "      <td>overcast</td>\n",
       "      <td>hot</td>\n",
       "      <td>high</td>\n",
       "      <td>False</td>\n",
       "      <td>yes</td>\n",
       "    </tr>\n",
       "    <tr>\n",
       "      <th>3</th>\n",
       "      <td>rainy</td>\n",
       "      <td>mild</td>\n",
       "      <td>high</td>\n",
       "      <td>False</td>\n",
       "      <td>yes</td>\n",
       "    </tr>\n",
       "    <tr>\n",
       "      <th>4</th>\n",
       "      <td>rainy</td>\n",
       "      <td>cool</td>\n",
       "      <td>normal</td>\n",
       "      <td>False</td>\n",
       "      <td>yes</td>\n",
       "    </tr>\n",
       "  </tbody>\n",
       "</table>\n",
       "</div>"
      ],
      "text/plain": [
       "    outlook  temp humidity  windy play\n",
       "0     sunny   hot     high  False   no\n",
       "1     sunny   hot     high   True   no\n",
       "2  overcast   hot     high  False  yes\n",
       "3     rainy  mild     high  False  yes\n",
       "4     rainy  cool   normal  False  yes"
      ]
     },
     "execution_count": 3,
     "metadata": {},
     "output_type": "execute_result"
    }
   ],
   "source": [
    "df.head()"
   ]
  },
  {
   "cell_type": "markdown",
   "id": "1d769809",
   "metadata": {},
   "source": [
    "# problem 1:-\n",
    " if ooutlook= Sunny,temp=Hot,humidity=High,windy=weak\n",
    " check play or not\n",
    "\n",
    "# solution:-\n",
    "p(yes/sunny,Hot,High,weak) = p(sunny/yes)*p(hot/yes)*p(high/yes)*p(true/yes)*p(yes)\n",
    "p(no/sunny,Hot,High,weak) = p(sunny/no)*p(hot/no)*p(high/no)*p(weak/no)*p(no)\n",
    "\n",
    "and check which has higher probability \n"
   ]
  },
  {
   "cell_type": "code",
   "execution_count": 4,
   "id": "bd01e56e",
   "metadata": {},
   "outputs": [
    {
     "data": {
      "text/plain": [
       "play\n",
       "yes    9\n",
       "no     5\n",
       "Name: count, dtype: int64"
      ]
     },
     "execution_count": 4,
     "metadata": {},
     "output_type": "execute_result"
    }
   ],
   "source": [
    "#first we find the probability of p(yes) and p(no)\n",
    "df['play'].value_counts()"
   ]
  },
  {
   "cell_type": "code",
   "execution_count": 16,
   "id": "c928869a",
   "metadata": {},
   "outputs": [
    {
     "name": "stdout",
     "output_type": "stream",
     "text": [
      "Probability of yes 0.6428571428571429\n",
      "Probability of no 0.35714285714285715\n"
     ]
    }
   ],
   "source": [
    "py = 9/14  #p(yes)\n",
    "pn = 5/14 #p(no)\n",
    "\n",
    "print(\"Probability of yes\",py)\n",
    "print(\"Probability of no\",pn)\n"
   ]
  },
  {
   "cell_type": "code",
   "execution_count": 6,
   "id": "57da07bb",
   "metadata": {},
   "outputs": [
    {
     "data": {
      "text/html": [
       "<div>\n",
       "<style scoped>\n",
       "    .dataframe tbody tr th:only-of-type {\n",
       "        vertical-align: middle;\n",
       "    }\n",
       "\n",
       "    .dataframe tbody tr th {\n",
       "        vertical-align: top;\n",
       "    }\n",
       "\n",
       "    .dataframe thead th {\n",
       "        text-align: right;\n",
       "    }\n",
       "</style>\n",
       "<table border=\"1\" class=\"dataframe\">\n",
       "  <thead>\n",
       "    <tr style=\"text-align: right;\">\n",
       "      <th>play</th>\n",
       "      <th>no</th>\n",
       "      <th>yes</th>\n",
       "    </tr>\n",
       "    <tr>\n",
       "      <th>outlook</th>\n",
       "      <th></th>\n",
       "      <th></th>\n",
       "    </tr>\n",
       "  </thead>\n",
       "  <tbody>\n",
       "    <tr>\n",
       "      <th>overcast</th>\n",
       "      <td>0</td>\n",
       "      <td>4</td>\n",
       "    </tr>\n",
       "    <tr>\n",
       "      <th>rainy</th>\n",
       "      <td>2</td>\n",
       "      <td>3</td>\n",
       "    </tr>\n",
       "    <tr>\n",
       "      <th>sunny</th>\n",
       "      <td>3</td>\n",
       "      <td>2</td>\n",
       "    </tr>\n",
       "  </tbody>\n",
       "</table>\n",
       "</div>"
      ],
      "text/plain": [
       "play      no  yes\n",
       "outlook          \n",
       "overcast   0    4\n",
       "rainy      2    3\n",
       "sunny      3    2"
      ]
     },
     "execution_count": 6,
     "metadata": {},
     "output_type": "execute_result"
    }
   ],
   "source": [
    "#now we find the probability of outlook column\n",
    "pd.crosstab(df['outlook'],df['play'])"
   ]
  },
  {
   "cell_type": "code",
   "execution_count": 8,
   "id": "69bf9c26",
   "metadata": {},
   "outputs": [
    {
     "name": "stdout",
     "output_type": "stream",
     "text": [
      "probabiliyt of overcast no 0.0\n",
      "probabiliyt of overcast yes 0.4444444444444444\n",
      "probabiliyt of ranny no 0.4\n",
      "probabiliyt of ranny yes 0.3333333333333333\n",
      "probabolity of sunny no 0.6\n",
      "probability of sunny yes 0.2222222222222222\n"
     ]
    }
   ],
   "source": [
    "poverno=0/5\n",
    "prannyno=2/5\n",
    "psunnyno=3/5\n",
    "\n",
    "poveryes=4/9\n",
    "prannyyes=3/9\n",
    "psunnyyes = 2/9\n",
    "\n",
    "print(\"probabiliyt of overcast no\",poverno)\n",
    "print(\"probabiliyt of overcast yes\",poveryes)\n",
    "print(\"probabiliyt of ranny no\",prannyno)\n",
    "print(\"probabiliyt of ranny yes\",prannyyes)\n",
    "print(\"probabolity of sunny no\",psunnyno)\n",
    "print(\"probability of sunny yes\",psunnyyes)"
   ]
  },
  {
   "cell_type": "code",
   "execution_count": 9,
   "id": "14938e70",
   "metadata": {},
   "outputs": [
    {
     "data": {
      "text/html": [
       "<div>\n",
       "<style scoped>\n",
       "    .dataframe tbody tr th:only-of-type {\n",
       "        vertical-align: middle;\n",
       "    }\n",
       "\n",
       "    .dataframe tbody tr th {\n",
       "        vertical-align: top;\n",
       "    }\n",
       "\n",
       "    .dataframe thead th {\n",
       "        text-align: right;\n",
       "    }\n",
       "</style>\n",
       "<table border=\"1\" class=\"dataframe\">\n",
       "  <thead>\n",
       "    <tr style=\"text-align: right;\">\n",
       "      <th>play</th>\n",
       "      <th>no</th>\n",
       "      <th>yes</th>\n",
       "    </tr>\n",
       "    <tr>\n",
       "      <th>temp</th>\n",
       "      <th></th>\n",
       "      <th></th>\n",
       "    </tr>\n",
       "  </thead>\n",
       "  <tbody>\n",
       "    <tr>\n",
       "      <th>cool</th>\n",
       "      <td>1</td>\n",
       "      <td>3</td>\n",
       "    </tr>\n",
       "    <tr>\n",
       "      <th>hot</th>\n",
       "      <td>2</td>\n",
       "      <td>2</td>\n",
       "    </tr>\n",
       "    <tr>\n",
       "      <th>mild</th>\n",
       "      <td>2</td>\n",
       "      <td>4</td>\n",
       "    </tr>\n",
       "  </tbody>\n",
       "</table>\n",
       "</div>"
      ],
      "text/plain": [
       "play  no  yes\n",
       "temp         \n",
       "cool   1    3\n",
       "hot    2    2\n",
       "mild   2    4"
      ]
     },
     "execution_count": 9,
     "metadata": {},
     "output_type": "execute_result"
    }
   ],
   "source": [
    "#now we find the probability of temp column\n",
    "pd.crosstab(df['temp'],df['play'])"
   ]
  },
  {
   "cell_type": "code",
   "execution_count": 10,
   "id": "b7aecc73",
   "metadata": {},
   "outputs": [
    {
     "name": "stdout",
     "output_type": "stream",
     "text": [
      "probability of cool no 0.2\n",
      "probability of cool yes 0.3333333333333333\n",
      "probability of hot no 0.4\n",
      "probability of hot yes 0.2222222222222222\n",
      "probability of mild no 0.4\n",
      "probability of mild yes 0.4444444444444444\n"
     ]
    }
   ],
   "source": [
    "pcoolno = 1/5\n",
    "photno=2/5\n",
    "pmildno=2/5\n",
    "\n",
    "pcoolyes=3/9\n",
    "photyes=2/9\n",
    "pmildyes=4/9\n",
    "\n",
    "\n",
    "print(\"probability of cool no\",pcoolno)\n",
    "print(\"probability of cool yes\",pcoolyes)\n",
    "print(\"probability of hot no\",photno)\n",
    "print(\"probability of hot yes\",photyes)\n",
    "print(\"probability of mild no\",pmildno)\n",
    "print(\"probability of mild yes\",pmildyes)"
   ]
  },
  {
   "cell_type": "code",
   "execution_count": 11,
   "id": "7fc862ba",
   "metadata": {},
   "outputs": [
    {
     "data": {
      "text/html": [
       "<div>\n",
       "<style scoped>\n",
       "    .dataframe tbody tr th:only-of-type {\n",
       "        vertical-align: middle;\n",
       "    }\n",
       "\n",
       "    .dataframe tbody tr th {\n",
       "        vertical-align: top;\n",
       "    }\n",
       "\n",
       "    .dataframe thead th {\n",
       "        text-align: right;\n",
       "    }\n",
       "</style>\n",
       "<table border=\"1\" class=\"dataframe\">\n",
       "  <thead>\n",
       "    <tr style=\"text-align: right;\">\n",
       "      <th>play</th>\n",
       "      <th>no</th>\n",
       "      <th>yes</th>\n",
       "    </tr>\n",
       "    <tr>\n",
       "      <th>humidity</th>\n",
       "      <th></th>\n",
       "      <th></th>\n",
       "    </tr>\n",
       "  </thead>\n",
       "  <tbody>\n",
       "    <tr>\n",
       "      <th>high</th>\n",
       "      <td>4</td>\n",
       "      <td>3</td>\n",
       "    </tr>\n",
       "    <tr>\n",
       "      <th>normal</th>\n",
       "      <td>1</td>\n",
       "      <td>6</td>\n",
       "    </tr>\n",
       "  </tbody>\n",
       "</table>\n",
       "</div>"
      ],
      "text/plain": [
       "play      no  yes\n",
       "humidity         \n",
       "high       4    3\n",
       "normal     1    6"
      ]
     },
     "execution_count": 11,
     "metadata": {},
     "output_type": "execute_result"
    }
   ],
   "source": [
    "#now we find the probability of humidity column\n",
    "pd.crosstab(df['humidity'],df['play'])"
   ]
  },
  {
   "cell_type": "code",
   "execution_count": 12,
   "id": "34a4083c",
   "metadata": {},
   "outputs": [
    {
     "name": "stdout",
     "output_type": "stream",
     "text": [
      "probability high no 0.8\n",
      "probability high yes 0.3333333333333333\n",
      "probability noraml no 0.2\n",
      "probability noraml yes 0.6666666666666666\n"
     ]
    }
   ],
   "source": [
    "phighno=4/5\n",
    "phighyes = 3/9\n",
    "pnormalno=1/5\n",
    "pnormalyes=6/9\n",
    "\n",
    "print (\"probability high no\",phighno)\n",
    "print (\"probability high yes\",phighyes)\n",
    "print(\"probability noraml no\",pnormalno)\n",
    "print(\"probability noraml yes\",pnormalyes)"
   ]
  },
  {
   "cell_type": "code",
   "execution_count": 13,
   "id": "3befc599",
   "metadata": {},
   "outputs": [
    {
     "data": {
      "text/html": [
       "<div>\n",
       "<style scoped>\n",
       "    .dataframe tbody tr th:only-of-type {\n",
       "        vertical-align: middle;\n",
       "    }\n",
       "\n",
       "    .dataframe tbody tr th {\n",
       "        vertical-align: top;\n",
       "    }\n",
       "\n",
       "    .dataframe thead th {\n",
       "        text-align: right;\n",
       "    }\n",
       "</style>\n",
       "<table border=\"1\" class=\"dataframe\">\n",
       "  <thead>\n",
       "    <tr style=\"text-align: right;\">\n",
       "      <th>play</th>\n",
       "      <th>no</th>\n",
       "      <th>yes</th>\n",
       "    </tr>\n",
       "    <tr>\n",
       "      <th>windy</th>\n",
       "      <th></th>\n",
       "      <th></th>\n",
       "    </tr>\n",
       "  </thead>\n",
       "  <tbody>\n",
       "    <tr>\n",
       "      <th>False</th>\n",
       "      <td>2</td>\n",
       "      <td>6</td>\n",
       "    </tr>\n",
       "    <tr>\n",
       "      <th>True</th>\n",
       "      <td>3</td>\n",
       "      <td>3</td>\n",
       "    </tr>\n",
       "  </tbody>\n",
       "</table>\n",
       "</div>"
      ],
      "text/plain": [
       "play   no  yes\n",
       "windy         \n",
       "False   2    6\n",
       "True    3    3"
      ]
     },
     "execution_count": 13,
     "metadata": {},
     "output_type": "execute_result"
    }
   ],
   "source": [
    "# windy now we check for the column windy\n",
    "pd.crosstab(df['windy'],df['play'])"
   ]
  },
  {
   "cell_type": "code",
   "execution_count": 14,
   "id": "2ba4915d",
   "metadata": {},
   "outputs": [
    {
     "name": "stdout",
     "output_type": "stream",
     "text": [
      "probability of true no  0.6\n",
      "probability of true yes  0.3333333333333333\n",
      "probability of false no 0.4\n",
      "probability of false yes 0.6666666666666666\n"
     ]
    }
   ],
   "source": [
    "pfalseno=2/5\n",
    "ptrueno=3/5\n",
    "pfalseyes=6/9\n",
    "ptrueyes=3/9\n",
    "\n",
    "print(\"probability of true no \",ptrueno)\n",
    "print(\"probability of true yes \",ptrueyes)\n",
    "print(\"probability of false no\",pfalseno)\n",
    "print(\"probability of false yes\",pfalseyes)"
   ]
  },
  {
   "cell_type": "code",
   "execution_count": 18,
   "id": "e16b9d27",
   "metadata": {},
   "outputs": [],
   "source": [
    "'''p(yes/sunny,Hot,High,weak) = p(sunny/yes)*p(hot/yes)*p(high/yes)*p(true/yes)*p(yes)\n",
    "\n",
    "p(no/sunny,Hot,High,weak) = p(sunny/no)*p(hot/no)*p(high/no)*p(weak/no)*p(no)'''\n",
    "\n",
    "Pyes = py*psunnyyes*photyes*phighyes*ptrueyes\n",
    "Pno = py*psunnyno*photno*phighno*ptrueno"
   ]
  },
  {
   "cell_type": "code",
   "execution_count": null,
   "id": "3065c7ad",
   "metadata": {},
   "outputs": [
    {
     "name": "stdout",
     "output_type": "stream",
     "text": [
      "probability of yes 0.003527336860670194\n",
      "probability of no 0.07405714285714286\n"
     ]
    }
   ],
   "source": [
    "print(\"probability of yes\",Pyes)\n",
    "print(\"probability of no\",Pno)"
   ]
  },
  {
   "cell_type": "code",
   "execution_count": 27,
   "id": "498c1723",
   "metadata": {},
   "outputs": [
    {
     "name": "stdout",
     "output_type": "stream",
     "text": [
      "No play today\n"
     ]
    }
   ],
   "source": [
    "if Pyes>Pno:\n",
    "    prit(\"play today\")\n",
    "else:\n",
    "    print(\"No play today\")"
   ]
  }
 ],
 "metadata": {
  "kernelspec": {
   "display_name": "base",
   "language": "python",
   "name": "python3"
  },
  "language_info": {
   "codemirror_mode": {
    "name": "ipython",
    "version": 3
   },
   "file_extension": ".py",
   "mimetype": "text/x-python",
   "name": "python",
   "nbconvert_exporter": "python",
   "pygments_lexer": "ipython3",
   "version": "3.12.7"
  }
 },
 "nbformat": 4,
 "nbformat_minor": 5
}
