{
 "cells": [
  {
   "cell_type": "code",
   "execution_count": 2,
   "id": "0868099e",
   "metadata": {},
   "outputs": [
    {
     "name": "stdout",
     "output_type": "stream",
     "text": [
      "{'CGPA': [6.15, 5.96, 6.19, 6.46, 5.93, 5.93, 6.47, 6.23, 5.86, 6.16, 5.86, 5.86, 6.07, 5.43, 5.48, 5.83, 5.7, 6.09, 5.73, 5.58, 6.44, 5.93, 6.02, 5.57, 5.84, 6.03, 5.65, 6.11, 5.82, 5.91, 5.82, 6.56, 6.0, 5.68, 6.25, 5.63, 6.06, 5.41, 5.6, 6.06, 6.22, 6.05, 5.97, 5.91, 5.56, 5.78, 5.86, 6.32, 6.1, 5.47, 6.1, 5.88, 5.8, 6.18, 6.31, 6.28, 5.75, 5.91, 6.1, 6.29, 5.86, 5.94, 5.67, 5.64, 6.24, 6.41, 5.98, 6.3, 6.11, 5.81, 7.57, 7.89, 7.02, 7.56, 7.58, 7.73, 7.13, 7.1, 7.66, 7.59, 7.58, 7.6, 7.3, 7.57, 7.59, 7.29, 8.06, 7.64, 7.14, 7.7, 7.21, 7.74, 7.85, 7.25, 7.79, 7.62, 7.75, 8.07, 7.43, 7.27, 7.23, 7.26, 7.48, 7.6, 7.58, 7.75, 7.5, 7.94, 7.42, 8.32, 7.69, 7.24, 7.18, 7.64, 7.43, 7.71, 7.64, 7.48, 7.25, 7.05, 7.37, 7.76, 7.56, 7.13, 7.55, 7.62, 7.23, 7.55, 7.52, 7.16, 7.61, 7.67, 7.82, 7.82, 7.09, 7.22, 7.65, 7.65, 7.65, 8.66, 9.03, 9.2, 9.48, 8.63, 9.64, 8.41, 8.95, 9.18, 9.08, 8.81, 8.94, 8.85, 8.82, 9.25, 9.11, 8.79, 9.27, 9.09, 9.24, 9.19, 8.75, 8.83, 9.22, 9.18, 8.99, 9.04, 9.38, 8.82, 9.16, 8.94, 8.93, 9.33, 9.25, 9.24, 9.39, 9.01, 9.2, 8.91, 9.1, 8.96, 9.03, 9.18, 8.75, 9.63, 8.7, 8.64, 9.35, 9.24, 9.19, 9.19, 9.0, 8.73, 9.02, 8.8, 9.29, 8.96, 8.75, 8.9, 9.12, 8.83], 'IQ': [92, 98, 90, 98, 77, 94, 90, 89, 90, 80, 89, 92, 97, 87, 86, 87, 95, 92, 87, 93, 90, 95, 86, 88, 88, 83, 91, 91, 90, 89, 83, 88, 88, 86, 89, 92, 99, 91, 91, 90, 80, 90, 90, 102, 89, 92, 90, 84, 96, 94, 94, 85, 97, 83, 93, 101, 85, 87, 90, 87, 82, 90, 85, 92, 85, 98, 86, 88, 94, 84, 113, 116, 115, 113, 108, 114, 106, 109, 108, 110, 122, 101, 113, 102, 108, 115, 110, 105, 106, 113, 106, 111, 110, 107, 121, 113, 100, 111, 107, 114, 106, 109, 113, 114, 104, 108, 108, 107, 119, 112, 104, 115, 121, 115, 102, 108, 116, 106, 112, 114, 105, 110, 94, 105, 109, 104, 118, 103, 108, 111, 117, 103, 116, 110, 105, 112, 111, 107, 110, 108, 126, 131, 131, 127, 128, 131, 123, 123, 126, 129, 132, 137, 134, 129, 130, 125, 130, 129, 132, 126, 133, 138, 129, 132, 133, 128, 131, 130, 130, 126, 130, 132, 137, 135, 141, 126, 134, 131, 141, 126, 126, 127, 119, 127, 126, 131, 132, 139, 135, 127, 126, 132, 123, 139, 136, 128, 121, 137, 129, 136]}\n",
      "\n",
      "DataFrame preview:\n",
      "   CGPA  IQ\n",
      "0  6.15  92\n",
      "1  5.96  98\n",
      "2  6.19  90\n",
      "3  6.46  98\n",
      "4  5.93  77\n",
      "5  5.93  94\n",
      "6  6.47  90\n",
      "7  6.23  89\n",
      "8  5.86  90\n",
      "9  6.16  80\n",
      "\n",
      "Total students: 200\n"
     ]
    }
   ],
   "source": [
    "import pandas as pd\n",
    "import numpy as np\n",
    "\n",
    "np.random.seed(42)\n",
    "\n",
    "# Cluster 1: Low CGPA, Low IQ\n",
    "cgpa1 = np.random.normal(6.0, 0.3, 70)   # mean=6.0, std=0.3\n",
    "iq1   = np.random.normal(90, 5, 70)      # mean=90, std=5\n",
    "\n",
    "# Cluster 2: Medium CGPA, Medium IQ\n",
    "cgpa2 = np.random.normal(7.5, 0.3, 70)\n",
    "iq2   = np.random.normal(110, 5, 70)\n",
    "\n",
    "# Cluster 3: High CGPA, High IQ\n",
    "cgpa3 = np.random.normal(9.0, 0.3, 60)\n",
    "iq3   = np.random.normal(130, 5, 60)\n",
    "\n",
    "# Combine clusters\n",
    "cgpa = np.concatenate([cgpa1, cgpa2, cgpa3])\n",
    "iq   = np.concatenate([iq1, iq2, iq3])\n",
    "\n",
    "# Create dictionary\n",
    "student_dict = {\n",
    "    \"CGPA\": np.round(cgpa, 2).tolist(),\n",
    "    \"IQ\": np.round(iq, 0).astype(int).tolist()\n",
    "}\n",
    "\n",
    "# Convert to DataFrame\n",
    "df= pd.DataFrame(student_dict)\n",
    "\n",
    "print(student_dict)         # dictionary of 200 students\n",
    "print(\"\\nDataFrame preview:\")\n",
    "print(df.head(10))\n",
    "print(\"\\nTotal students:\", len(df))\n"
   ]
  },
  {
   "cell_type": "code",
   "execution_count": 5,
   "id": "6c7fc757",
   "metadata": {},
   "outputs": [
    {
     "data": {
      "text/html": [
       "<div>\n",
       "<style scoped>\n",
       "    .dataframe tbody tr th:only-of-type {\n",
       "        vertical-align: middle;\n",
       "    }\n",
       "\n",
       "    .dataframe tbody tr th {\n",
       "        vertical-align: top;\n",
       "    }\n",
       "\n",
       "    .dataframe thead th {\n",
       "        text-align: right;\n",
       "    }\n",
       "</style>\n",
       "<table border=\"1\" class=\"dataframe\">\n",
       "  <thead>\n",
       "    <tr style=\"text-align: right;\">\n",
       "      <th></th>\n",
       "      <th>CGPA</th>\n",
       "      <th>IQ</th>\n",
       "    </tr>\n",
       "  </thead>\n",
       "  <tbody>\n",
       "    <tr>\n",
       "      <th>0</th>\n",
       "      <td>6.15</td>\n",
       "      <td>92</td>\n",
       "    </tr>\n",
       "    <tr>\n",
       "      <th>1</th>\n",
       "      <td>5.96</td>\n",
       "      <td>98</td>\n",
       "    </tr>\n",
       "    <tr>\n",
       "      <th>2</th>\n",
       "      <td>6.19</td>\n",
       "      <td>90</td>\n",
       "    </tr>\n",
       "    <tr>\n",
       "      <th>3</th>\n",
       "      <td>6.46</td>\n",
       "      <td>98</td>\n",
       "    </tr>\n",
       "    <tr>\n",
       "      <th>4</th>\n",
       "      <td>5.93</td>\n",
       "      <td>77</td>\n",
       "    </tr>\n",
       "  </tbody>\n",
       "</table>\n",
       "</div>"
      ],
      "text/plain": [
       "   CGPA  IQ\n",
       "0  6.15  92\n",
       "1  5.96  98\n",
       "2  6.19  90\n",
       "3  6.46  98\n",
       "4  5.93  77"
      ]
     },
     "execution_count": 5,
     "metadata": {},
     "output_type": "execute_result"
    }
   ],
   "source": [
    "df.head()"
   ]
  },
  {
   "cell_type": "code",
   "execution_count": 6,
   "id": "7edcbe7a",
   "metadata": {},
   "outputs": [
    {
     "data": {
      "text/plain": [
       "<matplotlib.collections.PathCollection at 0x2241ac6b500>"
      ]
     },
     "execution_count": 6,
     "metadata": {},
     "output_type": "execute_result"
    },
    {
     "data": {
      "image/png": "[encoded data removed]",
      "text/plain": [
       "<Figure size 640x480 with 1 Axes>"
      ]
     },
     "metadata": {},
     "output_type": "display_data"
    }
   ],
   "source": [
    "import matplotlib.pyplot as plt \n",
    "plt.scatter(df['CGPA'],df['IQ'])"
   ]
  },
  {
   "cell_type": "code",
   "execution_count": 8,
   "id": "79b1d708",
   "metadata": {},
   "outputs": [],
   "source": [
    "from sklearn.cluster import KMeans"
   ]
  },
  {
   "cell_type": "code",
   "execution_count": 10,
   "id": "aa067e03",
   "metadata": {},
   "outputs": [
    {
     "name": "stderr",
     "output_type": "stream",
     "text": [
      "c:\\Users\\alokb\\anaconda3\\Lib\\site-packages\\sklearn\\cluster\\_kmeans.py:1429: UserWarning: KMeans is known to have a memory leak on Windows with MKL, when there are less chunks than available threads. You can avoid it by setting the environment variable OMP_NUM_THREADS=1.\n",
      "  warnings.warn(\n",
      "c:\\Users\\alokb\\anaconda3\\Lib\\site-packages\\sklearn\\cluster\\_kmeans.py:1429: UserWarning: KMeans is known to have a memory leak on Windows with MKL, when there are less chunks than available threads. You can avoid it by setting the environment variable OMP_NUM_THREADS=1.\n",
      "  warnings.warn(\n",
      "c:\\Users\\alokb\\anaconda3\\Lib\\site-packages\\sklearn\\cluster\\_kmeans.py:1429: UserWarning: KMeans is known to have a memory leak on Windows with MKL, when there are less chunks than available threads. You can avoid it by setting the environment variable OMP_NUM_THREADS=1.\n",
      "  warnings.warn(\n",
      "c:\\Users\\alokb\\anaconda3\\Lib\\site-packages\\sklearn\\cluster\\_kmeans.py:1429: UserWarning: KMeans is known to have a memory leak on Windows with MKL, when there are less chunks than available threads. You can avoid it by setting the environment variable OMP_NUM_THREADS=1.\n",
      "  warnings.warn(\n",
      "c:\\Users\\alokb\\anaconda3\\Lib\\site-packages\\sklearn\\cluster\\_kmeans.py:1429: UserWarning: KMeans is known to have a memory leak on Windows with MKL, when there are less chunks than available threads. You can avoid it by setting the environment variable OMP_NUM_THREADS=1.\n",
      "  warnings.warn(\n",
      "c:\\Users\\alokb\\anaconda3\\Lib\\site-packages\\sklearn\\cluster\\_kmeans.py:1429: UserWarning: KMeans is known to have a memory leak on Windows with MKL, when there are less chunks than available threads. You can avoid it by setting the environment variable OMP_NUM_THREADS=1.\n",
      "  warnings.warn(\n",
      "c:\\Users\\alokb\\anaconda3\\Lib\\site-packages\\sklearn\\cluster\\_kmeans.py:1429: UserWarning: KMeans is known to have a memory leak on Windows with MKL, when there are less chunks than available threads. You can avoid it by setting the environment variable OMP_NUM_THREADS=1.\n",
      "  warnings.warn(\n",
      "c:\\Users\\alokb\\anaconda3\\Lib\\site-packages\\sklearn\\cluster\\_kmeans.py:1429: UserWarning: KMeans is known to have a memory leak on Windows with MKL, when there are less chunks than available threads. You can avoid it by setting the environment variable OMP_NUM_THREADS=1.\n",
      "  warnings.warn(\n",
      "c:\\Users\\alokb\\anaconda3\\Lib\\site-packages\\sklearn\\cluster\\_kmeans.py:1429: UserWarning: KMeans is known to have a memory leak on Windows with MKL, when there are less chunks than available threads. You can avoid it by setting the environment variable OMP_NUM_THREADS=1.\n",
      "  warnings.warn(\n"
     ]
    }
   ],
   "source": [
    "wcss =[]\n",
    "for i in range(1,10):\n",
    "    knn=KMeans(n_clusters=i)\n",
    "    knn.fit_predict(df)\n",
    "    wcss.append(knn.inertia_)"
   ]
  },
  {
   "cell_type": "code",
   "execution_count": 13,
   "id": "0519cc12",
   "metadata": {},
   "outputs": [
    {
     "data": {
      "text/plain": [
       "[<matplotlib.lines.Line2D at 0x22422adaed0>]"
      ]
     },
     "execution_count": 13,
     "metadata": {},
     "output_type": "execute_result"
    },
    {
     "data": {
      "image/png": "[encoded data removed]",
      "text/plain": [
       "<Figure size 640x480 with 1 Axes>"
      ]
     },
     "metadata": {},
     "output_type": "display_data"
    }
   ],
   "source": [
    "plt.plot(range(1,10),wcss)#so this tell us about the good numbers of clusters "
   ]
  },
  {
   "cell_type": "code",
   "execution_count": 14,
   "id": "9f16e7f3",
   "metadata": {},
   "outputs": [
    {
     "name": "stderr",
     "output_type": "stream",
     "text": [
      "c:\\Users\\alokb\\anaconda3\\Lib\\site-packages\\sklearn\\cluster\\_kmeans.py:1429: UserWarning: KMeans is known to have a memory leak on Windows with MKL, when there are less chunks than available threads. You can avoid it by setting the environment variable OMP_NUM_THREADS=1.\n",
      "  warnings.warn(\n"
     ]
    }
   ],
   "source": [
    "x=df.iloc[:,:].values\n",
    "km=KMeans(n_clusters=3)\n",
    "y_means= km.fit_predict(x)"
   ]
  },
  {
   "cell_type": "code",
   "execution_count": 15,
   "id": "af8949c3",
   "metadata": {},
   "outputs": [
    {
     "data": {
      "text/plain": [
       "array([1, 1, 1, 1, 1, 1, 1, 1, 1, 1, 1, 1, 1, 1, 1, 1, 1, 1, 1, 1, 1, 1,\n",
       "       1, 1, 1, 1, 1, 1, 1, 1, 1, 1, 1, 1, 1, 1, 1, 1, 1, 1, 1, 1, 1, 0,\n",
       "       1, 1, 1, 1, 1, 1, 1, 1, 1, 1, 1, 0, 1, 1, 1, 1, 1, 1, 1, 1, 1, 1,\n",
       "       1, 1, 1, 1, 0, 0, 0, 0, 0, 0, 0, 0, 0, 0, 2, 0, 0, 0, 0, 0, 0, 0,\n",
       "       0, 0, 0, 0, 0, 0, 2, 0, 0, 0, 0, 0, 0, 0, 0, 0, 0, 0, 0, 0, 0, 0,\n",
       "       0, 0, 2, 0, 0, 0, 0, 0, 0, 0, 0, 0, 1, 0, 0, 0, 0, 0, 0, 0, 0, 0,\n",
       "       0, 0, 0, 0, 0, 0, 0, 0, 2, 2, 2, 2, 2, 2, 2, 2, 2, 2, 2, 2, 2, 2,\n",
       "       2, 2, 2, 2, 2, 2, 2, 2, 2, 2, 2, 2, 2, 2, 2, 2, 2, 2, 2, 2, 2, 2,\n",
       "       2, 2, 2, 2, 2, 2, 0, 2, 2, 2, 2, 2, 2, 2, 2, 2, 2, 2, 2, 2, 2, 2,\n",
       "       2, 2])"
      ]
     },
     "execution_count": 15,
     "metadata": {},
     "output_type": "execute_result"
    }
   ],
   "source": [
    "y_means"
   ]
  },
  {
   "cell_type": "code",
   "execution_count": 16,
   "id": "6275f3a4",
   "metadata": {},
   "outputs": [
    {
     "data": {
      "text/plain": [
       "array([[  6.15,  92.  ],\n",
       "       [  5.96,  98.  ],\n",
       "       [  6.19,  90.  ],\n",
       "       [  6.46,  98.  ],\n",
       "       [  5.93,  77.  ],\n",
       "       [  5.93,  94.  ],\n",
       "       [  6.47,  90.  ],\n",
       "       [  6.23,  89.  ],\n",
       "       [  5.86,  90.  ],\n",
       "       [  6.16,  80.  ],\n",
       "       [  5.86,  89.  ],\n",
       "       [  5.86,  92.  ],\n",
       "       [  6.07,  97.  ],\n",
       "       [  5.43,  87.  ],\n",
       "       [  5.48,  86.  ],\n",
       "       [  5.83,  87.  ],\n",
       "       [  5.7 ,  95.  ],\n",
       "       [  6.09,  92.  ],\n",
       "       [  5.73,  87.  ],\n",
       "       [  5.58,  93.  ],\n",
       "       [  6.44,  90.  ],\n",
       "       [  5.93,  95.  ],\n",
       "       [  6.02,  86.  ],\n",
       "       [  5.57,  88.  ],\n",
       "       [  5.84,  88.  ],\n",
       "       [  6.03,  83.  ],\n",
       "       [  5.65,  91.  ],\n",
       "       [  6.11,  91.  ],\n",
       "       [  5.82,  90.  ],\n",
       "       [  5.91,  89.  ],\n",
       "       [  5.82,  83.  ],\n",
       "       [  6.56,  88.  ],\n",
       "       [  6.  ,  88.  ],\n",
       "       [  5.68,  86.  ],\n",
       "       [  6.25,  89.  ],\n",
       "       [  5.63,  92.  ],\n",
       "       [  6.06,  99.  ],\n",
       "       [  5.41,  91.  ],\n",
       "       [  5.6 ,  91.  ],\n",
       "       [  6.06,  90.  ],\n",
       "       [  6.22,  80.  ],\n",
       "       [  6.05,  90.  ],\n",
       "       [  5.97,  90.  ],\n",
       "       [  5.91, 102.  ],\n",
       "       [  5.56,  89.  ],\n",
       "       [  5.78,  92.  ],\n",
       "       [  5.86,  90.  ],\n",
       "       [  6.32,  84.  ],\n",
       "       [  6.1 ,  96.  ],\n",
       "       [  5.47,  94.  ],\n",
       "       [  6.1 ,  94.  ],\n",
       "       [  5.88,  85.  ],\n",
       "       [  5.8 ,  97.  ],\n",
       "       [  6.18,  83.  ],\n",
       "       [  6.31,  93.  ],\n",
       "       [  6.28, 101.  ],\n",
       "       [  5.75,  85.  ],\n",
       "       [  5.91,  87.  ],\n",
       "       [  6.1 ,  90.  ],\n",
       "       [  6.29,  87.  ],\n",
       "       [  5.86,  82.  ],\n",
       "       [  5.94,  90.  ],\n",
       "       [  5.67,  85.  ],\n",
       "       [  5.64,  92.  ],\n",
       "       [  6.24,  85.  ],\n",
       "       [  6.41,  98.  ],\n",
       "       [  5.98,  86.  ],\n",
       "       [  6.3 ,  88.  ],\n",
       "       [  6.11,  94.  ],\n",
       "       [  5.81,  84.  ],\n",
       "       [  7.57, 113.  ],\n",
       "       [  7.89, 116.  ],\n",
       "       [  7.02, 115.  ],\n",
       "       [  7.56, 113.  ],\n",
       "       [  7.58, 108.  ],\n",
       "       [  7.73, 114.  ],\n",
       "       [  7.13, 106.  ],\n",
       "       [  7.1 , 109.  ],\n",
       "       [  7.66, 108.  ],\n",
       "       [  7.59, 110.  ],\n",
       "       [  7.58, 122.  ],\n",
       "       [  7.6 , 101.  ],\n",
       "       [  7.3 , 113.  ],\n",
       "       [  7.57, 102.  ],\n",
       "       [  7.59, 108.  ],\n",
       "       [  7.29, 115.  ],\n",
       "       [  8.06, 110.  ],\n",
       "       [  7.64, 105.  ],\n",
       "       [  7.14, 106.  ],\n",
       "       [  7.7 , 113.  ],\n",
       "       [  7.21, 106.  ],\n",
       "       [  7.74, 111.  ],\n",
       "       [  7.85, 110.  ],\n",
       "       [  7.25, 107.  ],\n",
       "       [  7.79, 121.  ],\n",
       "       [  7.62, 113.  ],\n",
       "       [  7.75, 100.  ],\n",
       "       [  8.07, 111.  ],\n",
       "       [  7.43, 107.  ],\n",
       "       [  7.27, 114.  ],\n",
       "       [  7.23, 106.  ],\n",
       "       [  7.26, 109.  ],\n",
       "       [  7.48, 113.  ],\n",
       "       [  7.6 , 114.  ],\n",
       "       [  7.58, 104.  ],\n",
       "       [  7.75, 108.  ],\n",
       "       [  7.5 , 108.  ],\n",
       "       [  7.94, 107.  ],\n",
       "       [  7.42, 119.  ],\n",
       "       [  8.32, 112.  ],\n",
       "       [  7.69, 104.  ],\n",
       "       [  7.24, 115.  ],\n",
       "       [  7.18, 121.  ],\n",
       "       [  7.64, 115.  ],\n",
       "       [  7.43, 102.  ],\n",
       "       [  7.71, 108.  ],\n",
       "       [  7.64, 116.  ],\n",
       "       [  7.48, 106.  ],\n",
       "       [  7.25, 112.  ],\n",
       "       [  7.05, 114.  ],\n",
       "       [  7.37, 105.  ],\n",
       "       [  7.76, 110.  ],\n",
       "       [  7.56,  94.  ],\n",
       "       [  7.13, 105.  ],\n",
       "       [  7.55, 109.  ],\n",
       "       [  7.62, 104.  ],\n",
       "       [  7.23, 118.  ],\n",
       "       [  7.55, 103.  ],\n",
       "       [  7.52, 108.  ],\n",
       "       [  7.16, 111.  ],\n",
       "       [  7.61, 117.  ],\n",
       "       [  7.67, 103.  ],\n",
       "       [  7.82, 116.  ],\n",
       "       [  7.82, 110.  ],\n",
       "       [  7.09, 105.  ],\n",
       "       [  7.22, 112.  ],\n",
       "       [  7.65, 111.  ],\n",
       "       [  7.65, 107.  ],\n",
       "       [  7.65, 110.  ],\n",
       "       [  8.66, 108.  ],\n",
       "       [  9.03, 126.  ],\n",
       "       [  9.2 , 131.  ],\n",
       "       [  9.48, 131.  ],\n",
       "       [  8.63, 127.  ],\n",
       "       [  9.64, 128.  ],\n",
       "       [  8.41, 131.  ],\n",
       "       [  8.95, 123.  ],\n",
       "       [  9.18, 123.  ],\n",
       "       [  9.08, 126.  ],\n",
       "       [  8.81, 129.  ],\n",
       "       [  8.94, 132.  ],\n",
       "       [  8.85, 137.  ],\n",
       "       [  8.82, 134.  ],\n",
       "       [  9.25, 129.  ],\n",
       "       [  9.11, 130.  ],\n",
       "       [  8.79, 125.  ],\n",
       "       [  9.27, 130.  ],\n",
       "       [  9.09, 129.  ],\n",
       "       [  9.24, 132.  ],\n",
       "       [  9.19, 126.  ],\n",
       "       [  8.75, 133.  ],\n",
       "       [  8.83, 138.  ],\n",
       "       [  9.22, 129.  ],\n",
       "       [  9.18, 132.  ],\n",
       "       [  8.99, 133.  ],\n",
       "       [  9.04, 128.  ],\n",
       "       [  9.38, 131.  ],\n",
       "       [  8.82, 130.  ],\n",
       "       [  9.16, 130.  ],\n",
       "       [  8.94, 126.  ],\n",
       "       [  8.93, 130.  ],\n",
       "       [  9.33, 132.  ],\n",
       "       [  9.25, 137.  ],\n",
       "       [  9.24, 135.  ],\n",
       "       [  9.39, 141.  ],\n",
       "       [  9.01, 126.  ],\n",
       "       [  9.2 , 134.  ],\n",
       "       [  8.91, 131.  ],\n",
       "       [  9.1 , 141.  ],\n",
       "       [  8.96, 126.  ],\n",
       "       [  9.03, 126.  ],\n",
       "       [  9.18, 127.  ],\n",
       "       [  8.75, 119.  ],\n",
       "       [  9.63, 127.  ],\n",
       "       [  8.7 , 126.  ],\n",
       "       [  8.64, 131.  ],\n",
       "       [  9.35, 132.  ],\n",
       "       [  9.24, 139.  ],\n",
       "       [  9.19, 135.  ],\n",
       "       [  9.19, 127.  ],\n",
       "       [  9.  , 126.  ],\n",
       "       [  8.73, 132.  ],\n",
       "       [  9.02, 123.  ],\n",
       "       [  8.8 , 139.  ],\n",
       "       [  9.29, 136.  ],\n",
       "       [  8.96, 128.  ],\n",
       "       [  8.75, 121.  ],\n",
       "       [  8.9 , 137.  ],\n",
       "       [  9.12, 129.  ],\n",
       "       [  8.83, 136.  ]])"
      ]
     },
     "execution_count": 16,
     "metadata": {},
     "output_type": "execute_result"
    }
   ],
   "source": [
    "x"
   ]
  },
  {
   "cell_type": "code",
   "execution_count": 26,
   "id": "f2ee20e1",
   "metadata": {},
   "outputs": [],
   "source": [
    "x0=x[y_means==0]"
   ]
  },
  {
   "cell_type": "code",
   "execution_count": 27,
   "id": "831abe9e",
   "metadata": {},
   "outputs": [],
   "source": [
    "x1=x[y_means==1]"
   ]
  },
  {
   "cell_type": "code",
   "execution_count": 29,
   "id": "584301a4",
   "metadata": {},
   "outputs": [],
   "source": [
    "x2=x[y_means==2]"
   ]
  },
  {
   "cell_type": "code",
   "execution_count": 30,
   "id": "fff07aba",
   "metadata": {},
   "outputs": [
    {
     "data": {
      "text/plain": [
       "<matplotlib.collections.PathCollection at 0x22422ea0440>"
      ]
     },
     "execution_count": 30,
     "metadata": {},
     "output_type": "execute_result"
    },
    {
     "data": {
      "image/png": "[encoded data removed]",
      "text/plain": [
       "<Figure size 640x480 with 1 Axes>"
      ]
     },
     "metadata": {},
     "output_type": "display_data"
    }
   ],
   "source": [
    "plt.scatter(x1[:,0],x1[:,1],color='r')\n",
    "plt.scatter(x0[:,0],x0[:,1],color='b')\n",
    "plt.scatter(x2[:,0],x2[:,1],color='g')"
   ]
  }
 ],
 "metadata": {
  "kernelspec": {
   "display_name": "base",
   "language": "python",
   "name": "python3"
  },
  "language_info": {
   "codemirror_mode": {
    "name": "ipython",
    "version": 3
   },
   "file_extension": ".py",
   "mimetype": "text/x-python",
   "name": "python",
   "nbconvert_exporter": "python",
   "pygments_lexer": "ipython3",
   "version": "3.12.7"
  }
 },
 "nbformat": 4,
 "nbformat_minor": 5
}
