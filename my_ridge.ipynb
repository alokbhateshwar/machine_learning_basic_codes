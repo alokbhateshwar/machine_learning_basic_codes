{
 "cells": [
  {
   "cell_type": "code",
   "execution_count": 7,
   "id": "207ad907",
   "metadata": {},
   "outputs": [
    {
     "name": "stdout",
     "output_type": "stream",
     "text": [
      "import section runned\n"
     ]
    }
   ],
   "source": [
    "from sklearn.datasets import make_regression\n",
    "import matplotlib.pyplot as plt\n",
    "import numpy as np\n",
    "print(\"import section runned\")"
   ]
  },
  {
   "cell_type": "code",
   "execution_count": 8,
   "id": "52a634d0",
   "metadata": {},
   "outputs": [],
   "source": [
    "x,y = make_regression(n_samples=100,n_features=1,n_informative=1,n_targets=1,noise=20,random_state=42)"
   ]
  },
  {
   "cell_type": "code",
   "execution_count": 9,
   "id": "84dc1e83",
   "metadata": {},
   "outputs": [
    {
     "data": {
      "text/plain": [
       "<matplotlib.collections.PathCollection at 0x1f1bb5123f0>"
      ]
     },
     "execution_count": 9,
     "metadata": {},
     "output_type": "execute_result"
    },
    {
     "data": {
      "image/png": "[encoded data removed]",
      "text/plain": [
       "<Figure size 640x480 with 1 Axes>"
      ]
     },
     "metadata": {},
     "output_type": "display_data"
    }
   ],
   "source": [
    "plt.scatter(x,y)"
   ]
  },
  {
   "cell_type": "code",
   "execution_count": 10,
   "id": "c50ba9fb",
   "metadata": {},
   "outputs": [
    {
     "name": "stdout",
     "output_type": "stream",
     "text": [
      "[47.13323967]\n",
      "2.3302306410539453\n"
     ]
    }
   ],
   "source": [
    "from sklearn.linear_model import LinearRegression\n",
    "lr=LinearRegression()\n",
    "lr.fit(x,y)\n",
    "print(lr.coef_)\n",
    "print(lr.intercept_)"
   ]
  },
  {
   "cell_type": "code",
   "execution_count": 11,
   "id": "20d265f8",
   "metadata": {},
   "outputs": [
    {
     "name": "stdout",
     "output_type": "stream",
     "text": [
      "[47.0755859]\n",
      "2.324243497432695\n"
     ]
    }
   ],
   "source": [
    "from sklearn.linear_model import Ridge\n",
    "ri=Ridge(alpha=0.1)\n",
    "ri.fit(x,y)\n",
    "print(ri.coef_)\n",
    "print(ri.intercept_)"
   ]
  },
  {
   "cell_type": "code",
   "execution_count": 12,
   "id": "8cad4082",
   "metadata": {},
   "outputs": [
    {
     "name": "stdout",
     "output_type": "stream",
     "text": [
      "[41.9906212]\n",
      "1.7961876226164746\n"
     ]
    }
   ],
   "source": [
    "rr1=Ridge(alpha=10)\n",
    "rr1.fit(x,y)\n",
    "print(rr1.coef_)\n",
    "print(rr1.intercept_)"
   ]
  },
  {
   "cell_type": "code",
   "execution_count": 26,
   "id": "af27f266",
   "metadata": {},
   "outputs": [],
   "source": [
    "class MeraRidge():\n",
    "    def __init__(self,alpha=0.1):\n",
    "        self.alpha = alpha\n",
    "        self.m=None\n",
    "        self.b=None\n",
    "    def fit(self,x_train,y_train):\n",
    "        num=0\n",
    "        dem=0\n",
    "        for i in range(x_train.shape[0]):\n",
    "            num = num+(y_train[i]-y_train.mean())*(x_train[i]-x_train.mean())\n",
    "            dem=dem+(x_train[i]-x_train.mean())*(x_train[i]-x_train.mean())\n",
    "        self.m=num/dem+self.alpha\n",
    "        self.b=y_train.mean()-(self.m*x_train.mean())\n",
    "        print(self.m)\n",
    "        print(self.b)\n",
    "\n",
    "    def intercept_(self):\n",
    "        print(self.b)\n",
    "    def coef_(self):\n",
    "        print(self.m)\n"
   ]
  },
  {
   "cell_type": "code",
   "execution_count": 27,
   "id": "6f63ae63",
   "metadata": {},
   "outputs": [
    {
     "name": "stdout",
     "output_type": "stream",
     "text": [
      "[57.13323967]\n",
      "[3.36869581]\n"
     ]
    }
   ],
   "source": [
    "rr2=MeraRidge(alpha=10)\n",
    "rr2.fit(x,y)"
   ]
  }
 ],
 "metadata": {
  "kernelspec": {
   "display_name": "base",
   "language": "python",
   "name": "python3"
  },
  "language_info": {
   "codemirror_mode": {
    "name": "ipython",
    "version": 3
   },
   "file_extension": ".py",
   "mimetype": "text/x-python",
   "name": "python",
   "nbconvert_exporter": "python",
   "pygments_lexer": "ipython3",
   "version": "3.12.7"
  }
 },
 "nbformat": 4,
 "nbformat_minor": 5
}
